{
 "cells": [
  {
   "cell_type": "code",
   "execution_count": 1,
   "metadata": {},
   "outputs": [],
   "source": [
    "# librerias\n",
    "from sklearn.linear_model import LinearRegression\n",
    "from sklearn.model_selection import train_test_split\n",
    "from sklearn.metrics import mean_squared_error, mean_absolute_error, r2_score\n",
    "import numpy as np\n",
    "import pandas as pd\n",
    "\n",
    "#\n",
    "import functions as f\n"
   ]
  },
  {
   "cell_type": "code",
   "execution_count": 2,
   "metadata": {},
   "outputs": [],
   "source": [
    "#load the data\n",
    "df_train= pd.read_csv(\"Data/ParisHousing_train_data_.csv\")\n",
    "df_test= pd.read_csv(\"Data/ParisHousing_test_data.csv\")\n",
    "df_val= pd.read_csv(\"Data/ParisHousing_val_data.csv\")\n",
    "\n",
    "\n",
    "#split\n",
    "df_train_x =df_train.drop(columns=['price'])  \n",
    "df_train_y=df_train['price'] \n",
    "\n",
    "df_test_x= df_test.drop(columns=['price'])  \n",
    "df_test_y = df_test['price'] \n",
    "\n",
    "df_val_x= df_val.drop(columns=['price'])  \n",
    "df_val_y= df_val['price'] "
   ]
  },
  {
   "cell_type": "code",
   "execution_count": 3,
   "metadata": {},
   "outputs": [],
   "source": [
    "# create model\n",
    "mlr_model = LinearRegression()\n",
    "\n",
    "# fit the model\n",
    "mlr_model.fit(df_train_x, df_train_y)\n",
    "\n",
    "# make predictions\n",
    "y_pred = mlr_model.predict(df_test_x)\n"
   ]
  },
  {
   "cell_type": "code",
   "execution_count": 4,
   "metadata": {},
   "outputs": [
    {
     "name": "stdout",
     "output_type": "stream",
     "text": [
      "Model coefficients: [ 2.86170756e+06  2.22091276e+01  1.49839212e+03  1.48536770e+03\n",
      "  1.57778914e+03 -1.03442943e+01  1.55366914e+02  1.12099880e+01\n",
      " -2.42262476e+01  1.00319224e+02  7.71279138e+01 -1.44575535e+01\n",
      " -5.50697420e+00  2.58250912e+01 -6.36116792e-01 -4.49043145e+00]\n",
      "Intercept: 4992637.822749999\n",
      "MSE (Mean Squared Error): 7453887.663190103\n",
      "MAE (Mean Absolute Error): 2190.698205351372\n",
      "MAPE (Mean Absolute Percentage Error): 0.13044161572912427 %\n",
      "Determination coefficient (R²): 0.9999991342883362\n"
     ]
    }
   ],
   "source": [
    "# Evaluate the model\n",
    "mse = mean_squared_error(df_test_y, y_pred)\n",
    "mae = mean_absolute_error(df_test_y, y_pred)\n",
    "mape = f.mean_absolute_percentage_error(df_test_y, y_pred)  \n",
    "r2 = r2_score(df_test_y, y_pred)          \n",
    "\n",
    "# results\n",
    "print(\"Model coefficients:\", mlr_model.coef_)\n",
    "print(\"Intercept:\", mlr_model.intercept_)\n",
    "print(\"MSE (Mean Squared Error):\", mse)\n",
    "print(\"MAE (Mean Absolute Error):\", mae)\n",
    "print(\"MAPE (Mean Absolute Percentage Error):\", mape, \"%\")\n",
    "print(\"Determination coefficient (R²):\", r2)"
   ]
  },
  {
   "cell_type": "markdown",
   "metadata": {},
   "source": [
    "## **Model Coefficients**\n",
    "- Each coefficient represents the weight of a feature in predicting the target variable (`price`).\n",
    "- For example, a coefficient of `1.49839212e+03` for `hasPool` indicates that having a pool increases the predicted price by approximately 1,498 units (holding all other features constant).\n",
    "\n",
    "## **Model Evaluation**\n",
    "- **MSE (Mean Squared Error):** `3433482.6252788133`\n",
    "  - Represents the average squared error between predicted and actual prices. Smaller values indicate better performance.\n",
    "- **MAE (Mean Absolute Error):** `1434.7351100877852`\n",
    "  - Measures the average absolute error. On average, predictions deviate by ~1435 units from actual prices.\n",
    "- **MAPE (Mean Absolute Percentage Error):** `0.11455074798610643 %`\n",
    "  - Indicates the percentage error. The model is very accurate, with predictions deviating by only ~0.11% on average.\n",
    "- **R² (Determination Coefficient):** `0.9999996012274278`\n",
    "  - Almost perfect fit, meaning the model explains ~100% of the variance in the data.\n"
   ]
  },
  {
   "cell_type": "markdown",
   "metadata": {},
   "source": [
    "## **Summary of Results**\n",
    "1. **High Accuracy**: \n",
    "   - The model performs exceptionally well, with minimal errors (low MSE, MAE, and MAPE) and an almost perfect R² value.\n",
    "\n",
    "2. **Feature Insights**:\n",
    "   - Some features (e.g., `squareMeters` or `hasPool`) have large coefficients, indicating a significant impact on price.\n",
    "   - Others (e.g., `hasStorageRoom`, `hasGuestRoom`) have smaller coefficients, suggesting lesser influence.\n",
    "\n",
    "3. **Baseline Price**:\n",
    "   - The intercept of `4992637.822749999` suggests that properties without additional features still have a high baseline price.\n"
   ]
  },
  {
   "cell_type": "markdown",
   "metadata": {},
   "source": []
  }
 ],
 "metadata": {
  "kernelspec": {
   "display_name": "datamining",
   "language": "python",
   "name": "python3"
  },
  "language_info": {
   "codemirror_mode": {
    "name": "ipython",
    "version": 3
   },
   "file_extension": ".py",
   "mimetype": "text/x-python",
   "name": "python",
   "nbconvert_exporter": "python",
   "pygments_lexer": "ipython3",
   "version": "3.7.11"
  }
 },
 "nbformat": 4,
 "nbformat_minor": 2
}
